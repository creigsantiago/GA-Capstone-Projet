{
 "cells": [
  {
   "cell_type": "code",
   "execution_count": 1,
   "id": "3fe08fca-6e5a-4d02-afa5-cd55c354f71f",
   "metadata": {},
   "outputs": [],
   "source": [
    "import pandas as pd\n",
    "import requests\n",
    "import numpy as np\n",
    "from datetime import date\n",
    "\n",
    "\n",
    "#API Key from EIA\n",
    "api_key = 'b2feda39010110d402b5f247671cd0f6'\n",
    "\n",
    "#choose start and end date\n",
    "startdate = '2020-01-01'\n",
    "endDate = '2021-21-10'\n",
    "\n",
    "#pull EIA Data in json format.\n",
    "#get URL\n",
    "def load_data(api_key):\n",
    "    \n",
    "    url = 'http://api.eia.gov/series/?api_key='+ api_key +'&series_id=EBA.TEX-ALL.NG.WND.HL'\n",
    "    r = requests.get(url)\n",
    "    json_data = r.json()\n",
    "    if r.status_code == 200:\n",
    "        print('Success!')\n",
    "    else:\n",
    "        print('Error')\n",
    "    \n"
   ]
  },
  {
   "cell_type": "code",
   "execution_count": 2,
   "id": "6983cdc7-386c-4ef5-aebf-45f4965f449b",
   "metadata": {
    "scrolled": true,
    "tags": []
   },
   "outputs": [
    {
     "ename": "NameError",
     "evalue": "name 'json_data' is not defined",
     "output_type": "error",
     "traceback": [
      "\u001b[0;31m---------------------------------------------------------------------------\u001b[0m",
      "\u001b[0;31mNameError\u001b[0m                                 Traceback (most recent call last)",
      "\u001b[0;32m/var/folders/p7/k0l4mv_n027_6k_xjc9f0lgh0000gn/T/ipykernel_49728/4146197450.py\u001b[0m in \u001b[0;36m<module>\u001b[0;34m\u001b[0m\n\u001b[0;32m----> 1\u001b[0;31m \u001b[0mjson_data\u001b[0m\u001b[0;34m[\u001b[0m\u001b[0;34m'series'\u001b[0m\u001b[0;34m]\u001b[0m\u001b[0;34m[\u001b[0m\u001b[0;36m0\u001b[0m\u001b[0;34m]\u001b[0m\u001b[0;34m[\u001b[0m\u001b[0;34m'data'\u001b[0m\u001b[0;34m]\u001b[0m\u001b[0;34m\u001b[0m\u001b[0;34m\u001b[0m\u001b[0m\n\u001b[0m",
      "\u001b[0;31mNameError\u001b[0m: name 'json_data' is not defined"
     ]
    }
   ],
   "source": [
    "json_data['series'][0]['data']"
   ]
  },
  {
   "cell_type": "code",
   "execution_count": null,
   "id": "42086c00-2e00-484b-860e-ee55381b62bc",
   "metadata": {},
   "outputs": [],
   "source": [
    "prof_df = pd.DataFrame(json_data['series'][0]['data'], columns=['ds', 'y'])\n",
    "prof_df['ds'] = pd.to_datetime(prof_df.ds)\n"
   ]
  },
  {
   "cell_type": "code",
   "execution_count": null,
   "id": "baad45e4-a952-491c-ac00-019cdac8d8f3",
   "metadata": {},
   "outputs": [],
   "source": [
    "def get_data(timeframe):\n",
    "    \"\"\"\n",
    "    This function will load the dataset from the \n",
    "    EIA API, resample the Dataframe based on the timeframe\n",
    "    and retrun a dataframe in the way FB Prophet\n",
    "    Can use.\n",
    "    \"\"\"\n",
    "    api_key = 'b2feda39010110d402b5f247671cd0f6'\n",
    "    url = 'http://api.eia.gov/series/?api_key='+ api_key +'&series_id=EBA.TEX-ALL.NG.WND.HL'\n",
    "    r = requests.get(url)\n",
    "    json_data = r.json()\n",
    "    prof_df = pd.DataFrame(json_data['series'][0]['data'], columns=['ds', 'y'])\n",
    "    prof_df.ds = pd.to_datetime(prof_df.ds)\n",
    "    \n",
    "    if timeframe == 'daily':\n",
    "        prof_df.index = pd.to_datetime(prof_df.ds, utc=True)\n",
    "        prof_df.index = prof_df.index.tz_convert('US/Central')\n",
    "        prof_df = prof_df[['y']].resample('D').mean()\n",
    "        return prof_df\n",
    "    elif timeframe == 'weekly':\n",
    "        prof_df.index = pd.to_datetime(prof_df.ds, utc=True)\n",
    "        prof_df.index = prof_df.index.tz_convert('US/Central')\n",
    "        prof_df = prof_df.resample('W').mean().reset_index()\n",
    "        return prof_df\n",
    "    else:\n",
    "        return prof_df "
   ]
  },
  {
   "cell_type": "code",
   "execution_count": null,
   "id": "cae1b67c-bb14-4758-a932-2d7603a6f792",
   "metadata": {},
   "outputs": [],
   "source": [
    "df = get_data('weekly')"
   ]
  },
  {
   "cell_type": "code",
   "execution_count": null,
   "id": "fdd5845a-08c3-4a40-bab2-f3bbe4a677b1",
   "metadata": {},
   "outputs": [],
   "source": [
    "df.head()"
   ]
  },
  {
   "cell_type": "code",
   "execution_count": null,
   "id": "643cce5d-5a15-438f-ad12-391ec3582579",
   "metadata": {},
   "outputs": [],
   "source": [
    "df.tail()"
   ]
  },
  {
   "cell_type": "code",
   "execution_count": null,
   "id": "bfd7e1c0-7b39-4130-a4dc-35b583e73831",
   "metadata": {},
   "outputs": [],
   "source": [
    "df.index = df.index.tz_convert('US/Central')\n",
    "df.head()"
   ]
  },
  {
   "cell_type": "code",
   "execution_count": null,
   "id": "c4d7f5d3-ab4e-484d-a6aa-c7699a434eb2",
   "metadata": {},
   "outputs": [],
   "source": [
    "df[['y']] = df[['y']].resample('D').mean()"
   ]
  },
  {
   "cell_type": "code",
   "execution_count": null,
   "id": "37cbd8fb-02f7-4738-a494-334bd1f112dd",
   "metadata": {},
   "outputs": [],
   "source": [
    "df.head()"
   ]
  },
  {
   "cell_type": "code",
   "execution_count": 28,
   "id": "d0252b3b-4398-46c0-9594-815a55e0fc0a",
   "metadata": {},
   "outputs": [],
   "source": [
    "api_key = 'b2feda39010110d402b5f247671cd0f6'\n",
    "url = 'http://api.eia.gov/series/?api_key='+ api_key +'&series_id=EBA.TEX-ALL.NG.WND.HL'\n",
    "r = requests.get(url)"
   ]
  },
  {
   "cell_type": "code",
   "execution_count": 29,
   "id": "38656f8c-5070-40a7-ac46-0b5969a9df1e",
   "metadata": {},
   "outputs": [
    {
     "data": {
      "text/plain": [
       "<Response [200]>"
      ]
     },
     "execution_count": 29,
     "metadata": {},
     "output_type": "execute_result"
    }
   ],
   "source": [
    "r"
   ]
  },
  {
   "cell_type": "code",
   "execution_count": 12,
   "id": "7514483a-27f6-4c5f-9150-c3665c517285",
   "metadata": {},
   "outputs": [
    {
     "name": "stderr",
     "output_type": "stream",
     "text": [
      "/var/folders/p7/k0l4mv_n027_6k_xjc9f0lgh0000gn/T/ipykernel_49728/248344835.py:1: DeprecationWarning: parsing timezone aware datetimes is deprecated; this will raise an error in the future\n",
      "  df.index = [np.datetime64(i) for i in df['ds']]\n"
     ]
    }
   ],
   "source": [
    "df.index = [np.datetime64(i) for i in df['ds']]"
   ]
  },
  {
   "cell_type": "code",
   "execution_count": 37,
   "id": "d8d49661-b0df-41e8-8078-012db6a07fac",
   "metadata": {},
   "outputs": [],
   "source": [
    "\n",
    "\"\"\"\n",
    "This function will load the dataset from the \n",
    "EIA API, resample the Dataframe based on the timeframe\n",
    "and retrun a dataframe in the way FB Prophet\n",
    "Can use.\n",
    "\"\"\"\n",
    "api_key = 'b2feda39010110d402b5f247671cd0f6'\n",
    "url = 'http://api.eia.gov/series/?api_key='+ api_key +'&series_id=EBA.TEX-ALL.NG.WND.HL'\n",
    "r = requests.get(url)\n",
    "json_data = r.json()\n",
    "prof_df = pd.DataFrame(json_data['series'][0]['data'], columns=['ds', 'y'])\n",
    "prof_df.ds = pd.to_datetime(prof_df.ds, utc=True)\n",
    "prof_df['ds'] = prof_df['ds'].dt.tz_localize(None)\n",
    "return prof_df"
   ]
  },
  {
   "cell_type": "code",
   "execution_count": 60,
   "id": "386a997a-4ae3-4372-b94e-813153b17552",
   "metadata": {},
   "outputs": [],
   "source": [
    "prof_df = pd.DataFrame(json_data['series'][0]['data'], columns=['ds', 'y'])\n",
    "prof_df.ds = pd.to_datetime(prof_df.ds, utc=True)\n",
    "prof_df['ds'] = prof_df['ds'].dt.tz_localize(None)"
   ]
  },
  {
   "cell_type": "code",
   "execution_count": null,
   "id": "168bcf70-a884-4fb8-b596-3d126cbdbf7a",
   "metadata": {},
   "outputs": [],
   "source": []
  },
  {
   "cell_type": "code",
   "execution_count": null,
   "id": "b0d796e4-d8ce-4c49-8a34-a0d3a4d834fe",
   "metadata": {},
   "outputs": [],
   "source": []
  }
 ],
 "metadata": {
  "kernelspec": {
   "display_name": "Python [conda env:capstone]",
   "language": "python",
   "name": "conda-env-capstone-py"
  },
  "language_info": {
   "codemirror_mode": {
    "name": "ipython",
    "version": 3
   },
   "file_extension": ".py",
   "mimetype": "text/x-python",
   "name": "python",
   "nbconvert_exporter": "python",
   "pygments_lexer": "ipython3",
   "version": "3.9.7"
  }
 },
 "nbformat": 4,
 "nbformat_minor": 5
}
